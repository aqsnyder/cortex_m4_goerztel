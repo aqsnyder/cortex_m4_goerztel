{
 "cells": [
  {
   "cell_type": "code",
   "execution_count": 10,
   "metadata": {},
   "outputs": [],
   "source": [
    "import numpy as np"
   ]
  },
  {
   "cell_type": "code",
   "execution_count": 11,
   "metadata": {},
   "outputs": [],
   "source": [
    "# Function to calculate the block size based on samples per mm and scanning velocity\n",
    "def calculate_block_size(samples_per_mm, scanning_velocity_mm_s, sample_rate_hz):\n",
    "    # Calculate how many samples are needed per second based on the scanning velocity and samples per millimeter\n",
    "    samples_per_s = samples_per_mm * scanning_velocity_mm_s\n",
    "    \n",
    "    # Calculate block size based on the sample rate and the required samples per second\n",
    "    block_size = sample_rate_hz / samples_per_s\n",
    "    return block_size\n",
    "\n",
    "# Constants\n",
    "MCU_CLOCK_SPEED_HZ = 100e6  # Assume 100 MHz for Cortex-M4\n",
    "OPERATIONS_PER_SAMPLE = 4    # Assume 2 adds, 1 multiply, 1 window function for the Goertzel algorithm\n",
    "CHANNELS = 5                # Five channels running in parallel\n",
    "SAFETY_FACTOR = 0.1         # 10% safety margin\n",
    "\n",
    "# Input parameters\n",
    "samples_per_mm = 15 / 2  # 15 samples per 2 mm\n",
    "scanning_velocity_mm_s = 40  # Scanning velocity in mm/s\n",
    "sample_rate_hz = 30e3  # Sample rate of the ADC in Hz (max 100 kHz)\n",
    "\n",
    "# Calculate block size\n",
    "block_size = calculate_block_size(samples_per_mm, scanning_velocity_mm_s, sample_rate_hz)\n",
    "\n",
    "# Functions for calculation\n",
    "def calculate_operations_per_block(block_size, ops_per_sample):\n",
    "    return block_size * ops_per_sample\n",
    "\n",
    "def calculate_execution_time_per_block(operations, clock_speed_hz):\n",
    "    return operations / clock_speed_hz\n",
    "\n",
    "def calculate_sample_period(sampling_rate_hz):\n",
    "    return 1 / sampling_rate_hz\n",
    "\n",
    "def calculate_total_execution_time(exec_time_per_block, channels):\n",
    "    return exec_time_per_block * channels\n",
    "\n",
    "def calculate_safety_margin(total_exec_time, safety_factor):\n",
    "    return total_exec_time * (1 + safety_factor)\n",
    "\n",
    "# Calculations\n",
    "operations_per_block = calculate_operations_per_block(block_size, OPERATIONS_PER_SAMPLE)\n",
    "execution_time_per_block = calculate_execution_time_per_block(operations_per_block, MCU_CLOCK_SPEED_HZ)\n",
    "sample_period = calculate_sample_period(sample_rate_hz)\n",
    "total_execution_time = calculate_total_execution_time(execution_time_per_block, CHANNELS)\n",
    "total_execution_time_with_margin = calculate_safety_margin(total_execution_time, SAFETY_FACTOR)"
   ]
  },
  {
   "cell_type": "code",
   "execution_count": 12,
   "metadata": {},
   "outputs": [
    {
     "name": "stdout",
     "output_type": "stream",
     "text": [
      "Operations per block: 400.0\n",
      "Execution time per block (s): 0.0000040000\n",
      "Sample period (s): 0.0000333333\n",
      "Total execution time for 5 channels (s): 0.0000200000\n",
      "Total execution time with safety margin (s): 0.0000220000\n",
      "Can the MCU handle the load? YES\n"
     ]
    }
   ],
   "source": [
    "# Results\n",
    "print(f\"Operations per block: {operations_per_block}\")\n",
    "print(f\"Execution time per block (s): {execution_time_per_block:.10f}\")\n",
    "print(f\"Sample period (s): {sample_period:.10f}\")\n",
    "print(f\"Total execution time for {CHANNELS} channels (s): {total_execution_time:.10f}\")\n",
    "print(f\"Total execution time with safety margin (s): {total_execution_time_with_margin:.10f}\")\n",
    "print(f\"Can the MCU handle the load? {'YES' if sample_period > total_execution_time_with_margin else 'NO'}\")"
   ]
  }
 ],
 "metadata": {
  "kernelspec": {
   "display_name": "cortex_m4_overhead-KzsvrWV_",
   "language": "python",
   "name": "python3"
  },
  "language_info": {
   "codemirror_mode": {
    "name": "ipython",
    "version": 3
   },
   "file_extension": ".py",
   "mimetype": "text/x-python",
   "name": "python",
   "nbconvert_exporter": "python",
   "pygments_lexer": "ipython3",
   "version": "3.9.7"
  }
 },
 "nbformat": 4,
 "nbformat_minor": 2
}
