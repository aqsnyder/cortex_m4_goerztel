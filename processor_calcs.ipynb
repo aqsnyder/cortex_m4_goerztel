{
 "cells": [
  {
   "cell_type": "code",
   "execution_count": 9,
   "metadata": {},
   "outputs": [],
   "source": [
    "import numpy as np"
   ]
  },
  {
   "cell_type": "code",
   "execution_count": 10,
   "metadata": {},
   "outputs": [],
   "source": [
    "# Function to calculate the block size based on samples per mm and scanning velocity\n",
    "def calculate_block_size(samples_per_mm, scanning_velocity_mm_s, sample_rate_hz):\n",
    "    # Calculate how many samples are needed per second based on the scanning velocity and samples per millimeter\n",
    "    samples_per_s = samples_per_mm * scanning_velocity_mm_s\n",
    "\n",
    "    # Calculate block size based on the sample rate and the required samples per second\n",
    "    block_size = sample_rate_hz / samples_per_s\n",
    "    return block_size\n",
    "\n",
    "# Constants\n",
    "MCU_CLOCK_SPEED_HZ = 100e6  # Assume 100 MHz for Cortex-M4\n",
    "OPERATIONS_PER_SAMPLE = 4    # Assume 2 adds, 1 multiply, 1 window function for the Goertzel algorithm\n",
    "CHANNELS = 5                # Five channels running in parallel\n",
    "SAFETY_FACTOR = 0.1         # 10% safety margin\n",
    "\n",
    "# Input parameters\n",
    "samples_per_mm = 15 / 2  # 15 samples per 2 mm\n",
    "scanning_velocity_mm_s = 40  # Scanning velocity in mm/s\n",
    "sample_rate_hz = 32e3  # Sample rate of the ADC in Hz (max 100 kHz)"
   ]
  },
  {
   "cell_type": "markdown",
   "metadata": {},
   "source": [
    "### Block Size Calculation\n",
    "The block size is calculated based on the number of samples needed per millimeter and the scanning velocity. It determines how many samples are processed in one go by the Goertzel algorithm.\n",
    "\n",
    "$$\n",
    "\\text{Block Size} = \\frac{\\text{Sample Rate}}{\\text{Samples per Second}}\n",
    "$$\n",
    "\n",
    "where:\n",
    "- $\\text{Sample Rate}$ is the rate at which the ADC provides samples.\n",
    "- $\\text{Samples per Second}$ is the product of the scanning velocity and the number of samples per millimeter.\n"
   ]
  },
  {
   "cell_type": "markdown",
   "metadata": {},
   "source": [
    "### Operations Per Block\n",
    "The total number of operations required to process one block of data, including all arithmetic operations needed by the Goertzel algorithm.\n",
    "\n",
    "$$\n",
    "\\text{Operations per Block} = \\text{Block Size} \\times \\text{Operations per Sample}\n",
    "$$\n"
   ]
  },
  {
   "cell_type": "markdown",
   "metadata": {},
   "source": [
    "### Execution Time Per Block\n",
    "The time required for the MCU to execute all operations for one block of data.\n",
    "\n",
    "$$\n",
    "\\text{Execution Time per Block} = \\frac{\\text{Operations per Block}}{\\text{MCU Clock Speed}}\n",
    "$$\n"
   ]
  },
  {
   "cell_type": "markdown",
   "metadata": {},
   "source": [
    "### Sample Period\n",
    "The time interval between consecutive samples, which is the inverse of the sample rate.\n",
    "\n",
    "$$\n",
    "\\text{Sample Period} = \\frac{1}{\\text{Sample Rate}}\n",
    "$$\n"
   ]
  },
  {
   "cell_type": "markdown",
   "metadata": {},
   "source": [
    "### Total Execution Time\n",
    "The cumulative time required for the MCU to process the blocks from all channels.\n",
    "\n",
    "$$\n",
    "\\text{Total Execution Time} = \\text{Execution Time per Block} \\times \\text{Number of Channels}\n",
    "$$\n"
   ]
  },
  {
   "cell_type": "markdown",
   "metadata": {},
   "source": [
    "### Safety Margin\n",
    "An additional time added to the total execution time to account for unexpected delays and ensure reliability.\n",
    "\n",
    "$$\n",
    "\\text{Total Execution Time with Safety Margin} = \\text{Total Execution Time} \\times (1 + \\text{Safety Factor})\n",
    "$$\n"
   ]
  },
  {
   "cell_type": "markdown",
   "metadata": {},
   "source": [
    "### MCU Utilization\n",
    "The percentage of the MCU's capacity that is used to process the data. It is a ratio of the total execution time (with safety margin) to the sample period.\n",
    "\n",
    "$$\n",
    "\\text{MCU Utilization} = \\left( \\frac{\\text{Total Execution Time with Safety Margin}}{\\text{Sample Period}} \\right) \\times 100\\%\n",
    "$$\n"
   ]
  },
  {
   "cell_type": "code",
   "execution_count": 11,
   "metadata": {},
   "outputs": [],
   "source": [
    "# Calculate block size\n",
    "block_size = calculate_block_size(samples_per_mm, scanning_velocity_mm_s, sample_rate_hz)\n",
    "\n",
    "# Functions for calculation\n",
    "def calculate_operations_per_block(block_size, ops_per_sample):\n",
    "    return block_size * ops_per_sample\n",
    "\n",
    "def calculate_execution_time_per_block(operations, clock_speed_hz):\n",
    "    return operations / clock_speed_hz\n",
    "\n",
    "def calculate_sample_period(sampling_rate_hz):\n",
    "    return 1 / sampling_rate_hz\n",
    "\n",
    "def calculate_total_execution_time(exec_time_per_block, channels):\n",
    "    return exec_time_per_block * channels\n",
    "\n",
    "def calculate_safety_margin(total_exec_time, safety_factor):\n",
    "    return total_exec_time * (1 + safety_factor)\n",
    "\n",
    "# Calculations\n",
    "operations_per_block = calculate_operations_per_block(block_size, OPERATIONS_PER_SAMPLE)\n",
    "execution_time_per_block = calculate_execution_time_per_block(operations_per_block, MCU_CLOCK_SPEED_HZ)\n",
    "sample_period = calculate_sample_period(sample_rate_hz)\n",
    "total_execution_time = calculate_total_execution_time(execution_time_per_block, CHANNELS)\n",
    "total_execution_time_with_margin = calculate_safety_margin(total_execution_time, SAFETY_FACTOR)\n",
    "# Calculate MCU utilization\n",
    "mcu_utilization = (total_execution_time_with_margin / sample_period) * 100\n"
   ]
  },
  {
   "cell_type": "code",
   "execution_count": 12,
   "metadata": {},
   "outputs": [
    {
     "name": "stdout",
     "output_type": "stream",
     "text": [
      "Calculated block size: 106.66666666666667\n",
      "Operations per block: 426.6666666666667\n",
      "Execution time per block (s): 0.0000042667\n",
      "Sample period (s): 0.0000312500\n",
      "Total execution time for 5 channels (s): 0.0000213333\n",
      "Total execution time with safety margin (s): 0.0000234667\n",
      "MCU utilization: 75.09%\n",
      "Can the MCU handle the load? YES\n"
     ]
    }
   ],
   "source": [
    "# Output the results with MCU utilization\n",
    "print(f\"Calculated block size: {block_size}\")\n",
    "print(f\"Operations per block: {operations_per_block}\")\n",
    "print(f\"Execution time per block (s): {execution_time_per_block:.10f}\")\n",
    "print(f\"Sample period (s): {sample_period:.10f}\")\n",
    "print(f\"Total execution time for {CHANNELS} channels (s): {total_execution_time:.10f}\")\n",
    "print(f\"Total execution time with safety margin (s): {total_execution_time_with_margin:.10f}\")\n",
    "print(f\"MCU utilization: {mcu_utilization:.2f}%\")\n",
    "print(f\"Can the MCU handle the load? {'YES' if sample_period > total_execution_time_with_margin else 'NO'}\")"
   ]
  }
 ],
 "metadata": {
  "kernelspec": {
   "display_name": "cortex_m4_overhead-KzsvrWV_",
   "language": "python",
   "name": "python3"
  },
  "language_info": {
   "codemirror_mode": {
    "name": "ipython",
    "version": 3
   },
   "file_extension": ".py",
   "mimetype": "text/x-python",
   "name": "python",
   "nbconvert_exporter": "python",
   "pygments_lexer": "ipython3",
   "version": "3.9.7"
  }
 },
 "nbformat": 4,
 "nbformat_minor": 2
}
